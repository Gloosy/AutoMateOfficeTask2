{
 "cells": [
  {
   "cell_type": "markdown",
   "metadata": {},
   "source": [
    "Automate PowerPoint"
   ]
  },
  {
   "cell_type": "code",
   "execution_count": 17,
   "metadata": {},
   "outputs": [
    {
     "name": "stdout",
     "output_type": "stream",
     "text": [
      "Index(['Segment', 'Country', 'Product', 'Discount Band', 'Units Sold',\n",
      "       'Manufacturing Price', 'Sale Price', 'Gross Sales', 'Discounts',\n",
      "       ' Sales', 'COGS', 'Profit', 'Date', 'Month Number', 'Month Name',\n",
      "       'Year'],\n",
      "      dtype='object')\n"
     ]
    }
   ],
   "source": [
    "print(df.columns)"
   ]
  },
  {
   "cell_type": "code",
   "execution_count": 22,
   "metadata": {},
   "outputs": [],
   "source": [
    "import os\n",
    "import pandas as pd\n",
    "import seaborn as sns\n",
    "import matplotlib.pyplot as plt\n",
    "from pptx import Presentation\n",
    "from pptx.util import Inches\n",
    "\n",
    "# Set the script's working directory manually\n",
    "script_dir = os.getcwd()\n",
    "\n",
    "input_folder = os.path.join(script_dir, 'input')\n",
    "charts_folder = os.path.join(script_dir, 'charts')\n",
    "ppt_file = 'financial_data.pptx'\n",
    "\n",
    "# Create the charts folder if it doesn't exist\n",
    "if not os.path.exists(charts_folder):\n",
    "    os.mkdir(charts_folder)\n",
    "\n",
    "# Create a new PowerPoint presentation\n",
    "prs = Presentation()\n",
    "\n",
    "# Iterate through all Excel files in the input folder\n",
    "for excel_file in os.listdir(input_folder):\n",
    "    if not excel_file.endswith('.xlsx'):\n",
    "        continue\n",
    "\n",
    "    # Read the financial data from the first worksheet of the Excel file\n",
    "    file_path = os.path.join(input_folder, excel_file)\n",
    "    df = pd.read_excel(file_path, sheet_name=0, usecols=\"A:P\")\n",
    "    df = df.dropna()\n",
    "\n",
    "    # Strip any extra spaces in column names\n",
    "    df.columns = df.columns.str.strip()\n",
    "\n",
    "    # Ensure only numeric columns are used in the sum operation\n",
    "    numeric_columns = df.select_dtypes(include=['number'])\n",
    "\n",
    "    # Group by 'Product' in the original DataFrame and sum only numeric columns\n",
    "    grouped = df.groupby('Product')[numeric_columns.columns].sum()\n",
    "\n",
    "    # Reset the index so 'Product' becomes a column, not an index\n",
    "    grouped = grouped.reset_index()\n",
    "\n",
    "    # Create a chart using the seaborn library\n",
    "    # Use the 'Product' column as x and 'Sales' column as y\n",
    "    if 'Sales' in grouped.columns:\n",
    "        sns.barplot(x='Product', y='Sales', data=grouped)\n",
    "        plt.title(excel_file)\n",
    "        plt.xlabel('Product')\n",
    "        plt.ylabel('Sales')\n",
    "        plt.tight_layout()\n",
    "\n",
    "        # Save the chart to the charts folder\n",
    "        chart_file = excel_file.replace('.xlsx', '.png')\n",
    "        chart_path = os.path.join(charts_folder, chart_file)\n",
    "        plt.savefig(chart_path)\n",
    "        plt.close()  # Close the plot to avoid overlap when looping\n",
    "\n",
    "        # Add a slide to the PowerPoint presentation and insert the chart and title\n",
    "        slide = prs.slides.add_slide(prs.slide_layouts[5])\n",
    "        title = slide.shapes.title\n",
    "        title.text = excel_file.replace('.xlsx','')\n",
    "\n",
    "        chart_file = chart_path\n",
    "        left = Inches(0.5)\n",
    "        top = Inches(1)\n",
    "        width = Inches(9)\n",
    "        height = Inches(6)\n",
    "        slide.shapes.add_picture(chart_file, left, top, width=width, height=height)\n",
    "    else:\n",
    "        print(f\"No 'Sales' column found in {excel_file}\")\n",
    "\n",
    "# Save the PowerPoint presentation in the same directory as the script\n",
    "ppt_path = os.path.join(script_dir, ppt_file)\n",
    "prs.save(ppt_path)\n"
   ]
  }
 ],
 "metadata": {
  "kernelspec": {
   "display_name": "reg",
   "language": "python",
   "name": "python3"
  },
  "language_info": {
   "codemirror_mode": {
    "name": "ipython",
    "version": 3
   },
   "file_extension": ".py",
   "mimetype": "text/x-python",
   "name": "python",
   "nbconvert_exporter": "python",
   "pygments_lexer": "ipython3",
   "version": "3.12.4"
  }
 },
 "nbformat": 4,
 "nbformat_minor": 2
}
