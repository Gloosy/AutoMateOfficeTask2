{
 "cells": [
  {
   "cell_type": "code",
   "execution_count": 1,
   "metadata": {},
   "outputs": [
    {
     "ename": "ModuleNotFoundError",
     "evalue": "No module named 'celery'",
     "output_type": "error",
     "traceback": [
      "\u001b[1;31m---------------------------------------------------------------------------\u001b[0m",
      "\u001b[1;31mModuleNotFoundError\u001b[0m                       Traceback (most recent call last)",
      "Cell \u001b[1;32mIn[1], line 5\u001b[0m\n\u001b[0;32m      3\u001b[0m \u001b[38;5;28;01mimport\u001b[39;00m \u001b[38;5;21;01mplotly\u001b[39;00m\u001b[38;5;21;01m.\u001b[39;00m\u001b[38;5;21;01mexpress\u001b[39;00m \u001b[38;5;28;01mas\u001b[39;00m \u001b[38;5;21;01mpx\u001b[39;00m\n\u001b[0;32m      4\u001b[0m \u001b[38;5;28;01mimport\u001b[39;00m \u001b[38;5;21;01mrequests\u001b[39;00m\n\u001b[1;32m----> 5\u001b[0m \u001b[38;5;28;01mfrom\u001b[39;00m \u001b[38;5;21;01mcelery\u001b[39;00m \u001b[38;5;28;01mimport\u001b[39;00m Celery\n\u001b[0;32m      6\u001b[0m \u001b[38;5;28;01mfrom\u001b[39;00m \u001b[38;5;21;01mcelery\u001b[39;00m\u001b[38;5;21;01m.\u001b[39;00m\u001b[38;5;21;01mschedules\u001b[39;00m \u001b[38;5;28;01mimport\u001b[39;00m crontab\n",
      "\u001b[1;31mModuleNotFoundError\u001b[0m: No module named 'celery'"
     ]
    }
   ],
   "source": [
    "import os\n",
    "import pandas as pd\n",
    "import plotly.express as px\n",
    "import requests\n",
    "import sys\n",
    "sys.path.append('C:/Users/Sreynoch/pythonlab/Lib/site-packages')\n",
    "\n",
    "from celery import Celery\n",
    "\n",
    "from celery.schedules import crontab"
   ]
  },
  {
   "cell_type": "code",
   "execution_count": null,
   "metadata": {},
   "outputs": [],
   "source": [
    "# Define the path to the Excel file\n",
    "EXCEL_FILE_PATH = r'D:\\AI_TUX\\Python\\AutoMateOfficeTask2\\interactive_chart_project\\Financial_Data.xlsx'  # Modify as per your path\n",
    "\n",
    "# Initialize Celery\n",
    "app = Celery('tasks', broker='redis://localhost:6379/0')\n",
    "\n",
    "# Function to process data from Excel and generate a chart\n",
    "def process_data_and_generate_chart(file_path):\n",
    "    \"\"\"\n",
    "    Reads Excel data, processes it, and generates an interactive chart.\n",
    "    Saves the chart as an HTML file in the same directory.\n",
    "    \"\"\"\n",
    "    # Load the data from the Excel file\n",
    "    data = pd.read_excel(file_path)\n",
    "\n",
    "    # Check if required columns exist\n",
    "    if 'Category' not in data.columns or 'Sales' not in data.columns:\n",
    "        raise ValueError(\"The Excel file must contain 'Category' and 'Sales' columns.\")\n",
    "    \n",
    "    # Summarize the sales data by category\n",
    "    summary = data.groupby('Category')['Sales'].sum().reset_index()\n",
    "\n",
    "    # Create a bar chart using Plotly\n",
    "    fig = px.bar(summary, x='Category', y='Sales', title='Sales by Category',\n",
    "                 labels={'Category': 'Category', 'Sales': 'Total Sales'},\n",
    "                 color_discrete_sequence=[\"#1f77b4\"])\n",
    "\n",
    "    # Save the chart as an HTML file in the same directory\n",
    "    output_path = os.path.join(os.path.dirname(file_path), 'sales_by_category.html')\n",
    "    fig.write_html(output_path)\n",
    "\n",
    "    return output_path  # Return the path to the saved chart\n",
    "\n",
    "# Function to send the chart to Gemini API\n",
    "def send_chart_to_gemini_api(chart_path):\n",
    "    \"\"\"\n",
    "    Sends the generated chart to the Gemini API for further use.\n",
    "    \"\"\"\n",
    "    # Example Gemini API URL - replace with actual endpoint\n",
    "    url = \"https://api.gemini.com/v1/chart/upload\"\n",
    "    \n",
    "    # Read the file and send it in a POST request\n",
    "    with open(chart_path, 'rb') as f:\n",
    "        response = requests.post(url, files={'file': f})\n",
    "\n",
    "    # Return the response from the API\n",
    "    return response.json()\n",
    "\n",
    "# Define a Celery task to process the data and send the chart to Gemini\n",
    "@app.task\n",
    "def generate_weekly_chart():\n",
    "    \"\"\"\n",
    "    Celery task that generates a weekly chart and sends it to the Gemini API.\n",
    "    \"\"\"\n",
    "    chart_path = process_data_and_generate_chart(EXCEL_FILE_PATH)\n",
    "    response = send_chart_to_gemini_api(chart_path)\n",
    "    return response\n",
    "\n",
    "# Schedule the Celery task to run every Monday at 8:00 AM\n",
    "@app.on_after_configure.connect\n",
    "def setup_periodic_tasks(sender, **kwargs):\n",
    "    \"\"\"\n",
    "    Configures Celery to run the 'generate_weekly_chart' task every Monday at 8:00 AM.\n",
    "    \"\"\"\n",
    "    sender.add_periodic_task(\n",
    "        crontab(hour=8, minute=0, day_of_week='mon'),\n",
    "        generate_weekly_chart.s()\n",
    "    )"
   ]
  }
 ],
 "metadata": {
  "kernelspec": {
   "display_name": "tgi",
   "language": "python",
   "name": "python3"
  },
  "language_info": {
   "codemirror_mode": {
    "name": "ipython",
    "version": 3
   },
   "file_extension": ".py",
   "mimetype": "text/x-python",
   "name": "python",
   "nbconvert_exporter": "python",
   "pygments_lexer": "ipython3",
   "version": "3.10.14"
  }
 },
 "nbformat": 4,
 "nbformat_minor": 2
}
