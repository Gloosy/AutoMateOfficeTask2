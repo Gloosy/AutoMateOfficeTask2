{
 "cells": [
  {
   "cell_type": "code",
   "execution_count": 1,
   "metadata": {},
   "outputs": [
    {
     "name": "stdout",
     "output_type": "stream",
     "text": [
      "                    Country         Sales\n",
      "0                    Canada  2.488765e+07\n",
      "1                    France  2.435417e+07\n",
      "2                   Germany  2.350534e+07\n",
      "3                     Japan  2.094935e+07\n",
      "4  United States of America  2.502983e+07\n"
     ]
    }
   ],
   "source": [
    "# process_data.ipynb\n",
    "\n",
    "import pandas as pd\n",
    "\n",
    "def process_data(file_path):\n",
    "    \"\"\"Load and process data from the Excel file.\"\"\"\n",
    "    data = pd.read_excel(file_path, sheet_name=\"Data\")\n",
    "\n",
    "    # Group by 'Country' and sum 'Sales'\n",
    "    processed_data = data.groupby('Country')['Sales'].sum().reset_index()\n",
    "    return processed_data\n",
    "\n",
    "# Example usage\n",
    "file_path = 'Financial_Data.xlsx'\n",
    "processed_data = process_data(file_path)\n",
    "print(processed_data)\n"
   ]
  }
 ],
 "metadata": {
  "kernelspec": {
   "display_name": "tgi",
   "language": "python",
   "name": "python3"
  },
  "language_info": {
   "codemirror_mode": {
    "name": "ipython",
    "version": 3
   },
   "file_extension": ".py",
   "mimetype": "text/x-python",
   "name": "python",
   "nbconvert_exporter": "python",
   "pygments_lexer": "ipython3",
   "version": "3.10.14"
  }
 },
 "nbformat": 4,
 "nbformat_minor": 2
}
