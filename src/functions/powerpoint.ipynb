{
 "cells": [
  {
   "cell_type": "code",
   "execution_count": null,
   "metadata": {},
   "outputs": [
    {
     "ename": "",
     "evalue": "",
     "output_type": "error",
     "traceback": [
      "\u001b[1;31mThe file 'email.py' seems to be overriding built in modules and interfering with the startup of the kernel. Consider renaming the file and starting the kernel again.\n",
      "\u001b[1;31mClick <a href='https://aka.ms/kernelFailuresOverridingBuiltInModules'>here</a> for more info."
     ]
    }
   ],
   "source": [
    "import os\n",
    "from pptx import Presentation\n",
    "from pptx.util import Inches\n",
    "from config import CHARTS_FOLDER, REPORTS_FOLDER"
   ]
  },
  {
   "cell_type": "code",
   "execution_count": null,
   "metadata": {},
   "outputs": [],
   "source": [
    "\n",
    "def create_powerpoint(charts_folder=CHARTS_FOLDER, reports_folder=REPORTS_FOLDER, ppt_filename='financial_report.pptx'):\n",
    "    prs = Presentation()\n",
    "\n",
    "    for chart_file in os.listdir(charts_folder):\n",
    "        if chart_file.endswith('.png') or chart_file.endswith('.jpg'):\n",
    "            slide_layout = prs.slide_layouts[5]  # Blank slide\n",
    "            slide = prs.slides.add_slide(slide_layout)\n",
    "\n",
    "            title_shape = slide.shapes.title\n",
    "            title_text = os.path.splitext(chart_file)[0].replace('_', ' ').title()\n",
    "            title_shape.text = title_text\n",
    "\n",
    "            img_path = os.path.join(charts_folder, chart_file)\n",
    "            left = Inches(1)\n",
    "            top = Inches(1.5)\n",
    "            height = Inches(5.5)\n",
    "            slide.shapes.add_picture(img_path, left, top, height=height)\n",
    "\n",
    "    ppt_path = os.path.join(reports_folder, ppt_filename)\n",
    "    prs.save(ppt_path)\n",
    "    return ppt_path\n"
   ]
  }
 ],
 "metadata": {
  "kernelspec": {
   "display_name": "tgi",
   "language": "python",
   "name": "python3"
  },
  "language_info": {
   "name": "python",
   "version": "3.10.14"
  }
 },
 "nbformat": 4,
 "nbformat_minor": 2
}
