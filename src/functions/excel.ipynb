{
 "cells": [
  {
   "cell_type": "code",
   "execution_count": null,
   "metadata": {},
   "outputs": [
    {
     "ename": "",
     "evalue": "",
     "output_type": "error",
     "traceback": [
      "\u001b[1;31mThe file 'email.py' seems to be overriding built in modules and interfering with the startup of the kernel. Consider renaming the file and starting the kernel again.\n",
      "\u001b[1;31mClick <a href='https://aka.ms/kernelFailuresOverridingBuiltInModules'>here</a> for more info."
     ]
    }
   ],
   "source": [
    "import pandas as pd\n",
    "import io\n",
    "import streamlit as st"
   ]
  },
  {
   "cell_type": "code",
   "execution_count": null,
   "metadata": {},
   "outputs": [],
   "source": [
    "\n",
    "def interactive_excel(file):\n",
    "    df = pd.read_excel(file)\n",
    "    st.write(df)\n",
    "    st.dataframe(df)\n",
    "\n",
    "def create_project_structure_template():\n",
    "    data = {\n",
    "        \"Section\": [\"Introduction\", \"Objectives\", \"Timeline\", \"Budget\", \"Team Members\"],\n",
    "        \"Description\": [\"\", \"\", \"\", \"\", \"\"],\n",
    "        \"Status\": [\"Not Started\"] * 5,\n",
    "        \"Assigned To\": [\"\"] * 5\n",
    "    }\n",
    "    df = pd.DataFrame(data)\n",
    "    \n",
    "    output = io.BytesIO()\n",
    "    with pd.ExcelWriter(output, engine='xlsxwriter') as writer:\n",
    "        df.to_excel(writer, sheet_name='Project Structure', index=False)\n",
    "        writer.save()\n",
    "    output.seek(0)\n",
    "    \n",
    "    return output\n"
   ]
  }
 ],
 "metadata": {
  "kernelspec": {
   "display_name": "tgi",
   "language": "python",
   "name": "python3"
  },
  "language_info": {
   "name": "python",
   "version": "3.10.14"
  }
 },
 "nbformat": 4,
 "nbformat_minor": 2
}
